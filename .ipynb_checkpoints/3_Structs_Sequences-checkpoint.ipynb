{
 "cells": [
  {
   "cell_type": "code",
   "execution_count": 33,
   "id": "351207c8-596c-4988-908b-8b31e2261254",
   "metadata": {},
   "outputs": [
    {
     "name": "stdout",
     "output_type": "stream",
     "text": [
      "a = 1, b = 2, c = 3\n",
      "a = 4, b = 5, c = 6\n",
      "a = 7, b = 8, c = 9\n"
     ]
    },
    {
     "data": {
      "text/plain": [
       "[3, 4, 5]"
      ]
     },
     "execution_count": 33,
     "metadata": {},
     "output_type": "execute_result"
    }
   ],
   "source": [
    "######### TUPLE ##########\n",
    "\n",
    "tup = 4, 5, 6\n",
    "type(tup)\n",
    "\n",
    "tuple([1, 2, 4])      # list   to tuple\n",
    "tup = tuple('string') # string to tuple('s', 't', 'r', 'i', 'n', 'g')\n",
    "tup[1]\n",
    "\n",
    "# nested tuple\n",
    "nested_tup = (4, 5, 6), (7, 8)\n",
    "nested_tup[0] # (4,5,6)\n",
    "nested_tup[1] # 7, 8)\n",
    "\n",
    "# immutable of typle\n",
    "tup = tuple(['Yoo', [1, 2], True])\n",
    "tup[1] # [1, 2]\n",
    "#tup[1] = 3 # ERROR!\n",
    "\n",
    "# !!! but i can change element himself\n",
    "tup[1].append(3) # change object by reference [1,2] inside the tuple\n",
    "tup # ('Yoo', [1, 2, 3], True)\n",
    "\n",
    "# tuple concat\n",
    "tup2 = (3,5)\n",
    "tup + tup2 # ('Yoo', [1, 2, 3], True, 3, 5)\n",
    "tup2 * 2   # as concat of two tuples (3, 5, 3, 5), this is 2 copy of REFERENCES on tup2\n",
    "tup2       # immutable (3, 5)\n",
    "\n",
    "# unpack tuple\n",
    "tup = 4, 5, (6, 7)\n",
    "a, b, (c, d) = tup\n",
    "d\n",
    "\n",
    "# exchange of values\n",
    "a, b = (1, 2) # or a, b = (1, 2), where a, b - variables, not tuple\n",
    "a, b = b, a\n",
    "a # 2\n",
    "a = 3; b = 4\n",
    "a, b = b, a # the same\n",
    "\n",
    "# tuple of tuples\n",
    "tpls = (1, 2, 3), (4, 5, 6), (7, 8, 9) # tuple of tuples\n",
    "for a, b, c in tpls:\n",
    "    print(f'a = {a}, b = {b}, c = {c}')\n",
    "\"\"\"\n",
    "a = 1, b = 2, c = 3\n",
    "a = 4, b = 5, c = 6\n",
    "a = 7, b = 8, c = 9\n",
    "\"\"\"\n",
    "\n",
    "#split of tuple begining\n",
    "values = 1, 2, 3, 4, 5\n",
    "a, b, *rest = values # instead of rest i can use any values\n",
    "rest\n",
    "a, b, *_ = values\n",
    "_ # [3, 4, 5]"
   ]
  },
  {
   "cell_type": "code",
   "execution_count": 3,
   "id": "dc46223d-9139-4bc4-b3dd-ee967b41e674",
   "metadata": {
    "scrolled": true
   },
   "outputs": [
    {
     "data": {
      "text/plain": [
       "[6, 5, 4, 15, 11, 10, 1]"
      ]
     },
     "execution_count": 3,
     "metadata": {},
     "output_type": "execute_result"
    }
   ],
   "source": [
    "################## LIST ##############################\n",
    "\n",
    "# quick full list\n",
    "gen = range(0, 10, 1) # [0, 1, 2, 3, 4, 5, 6, 7, 8, 9]\n",
    "list(gen)\n",
    "\n",
    "tup = ('Yooo', 'Eeee', 'Axxx') # immotable\n",
    "b_list = list(tup) # i can change it\n",
    "b_list[2] = 'Fuck!'\n",
    "b_list.append('Dviggga')  # add to end of list\n",
    "b_list.insert(0, 'Bingo') # add to 0 index, the rest move to the right. BED PERFOMANCE! Better to use object 'collection.deque'\n",
    "b_list.pop(1)              # delete by index 1 'Yooo', return deleted value\n",
    "b_list.insert(1, 'Yooo, bro!')\n",
    "b_list.remove('Yooo, bro!') # delete by value\n",
    "b_list.count('o')\n",
    "b_list\n",
    "\n",
    "# entry check in list\n",
    "'Fuck!' in b_list # BED PERFOMANCE!\n",
    "\n",
    "# concat\n",
    "[4, (3, 8), None] + [7, 8, None] # [4, (3, 8), None, 7, 8, None]  BED PERFOMANCE! Better to use extend()\n",
    "\n",
    "# extend()\n",
    "ls = ['Yes', 1]\n",
    "ls.extend(['No',(0, -1)]) # add some-list to end of source-list ['Yes', 1, 'No', (0, -1)]\n",
    "ls\n",
    "\n",
    "# sort()\n",
    "ls_2 = ['Bingo! Bingo! Bingo!', 'Hello world', 'i am a superman']\n",
    "ls_2.sort(key = len) # len - only for object having length (string and etc.)\n",
    "ls_2\n",
    "\n",
    "# cuting (start - inclusive, stop - not inclusive)\n",
    "ls = [1 , 2, 3, 4, 5, 6]\n",
    "ls[1:3] # don't include 3, that is ls[1], ls[2]:  [2, 3]\n",
    "ls[1:3] = [10, 11, 15] # replace range 1:3 by new list: [1, 10, 11, 15, 4, 5, 6]\n",
    "ls[:3] # from 0 to 3 (not inclusive): [1 , 10, 11]\n",
    "ls[3:] # from 3 to end (inclusive): [15, 4, 5, 6]\n",
    "ls[-3:] # from end to left direction on [-0],[-1],[-2]: [4, 5, 6]\n",
    "ls[-3:-1] # [4, 5]\n",
    "ls[-1:-3] # []\n",
    "ls[1::2] # from 1 to end with step = 2: [10, 15, 5]\n",
    "ls[-1::-2] # from [-0] to left with step = -2: [6, 4, 11, 1]\n",
    "\n",
    "ls[::-1] # invert list !!!                              [6, 5, 4, 15, 11, 10, 1]"
   ]
  },
  {
   "cell_type": "code",
   "execution_count": 6,
   "id": "0bb4d83b-644e-4d4b-b84f-91c7f2da63a5",
   "metadata": {},
   "outputs": [
    {
     "name": "stdout",
     "output_type": "stream",
     "text": [
      "{'a': 'some value', 'b': [1, 2, 3], 'c': ('val1', 'val2'), 8: 'bingo!', 'd': 1000}\n"
     ]
    },
    {
     "data": {
      "text/plain": [
       "{'a': ['apple', 'atom'], 'b': ['bat', 'bar', 'book']}"
      ]
     },
     "execution_count": 6,
     "metadata": {},
     "output_type": "execute_result"
    }
   ],
   "source": [
    "####################  DICTIONARY ###############################\n",
    "\n",
    "d1 = {'a':'some value', 'b':[1, 2, 3, 4]}\n",
    "d1[7] = 'an integer'\n",
    "'a' in d1 # check by key: True\n",
    "del d1[7] # delete by key\n",
    "d1.pop('b') # delte by key with return deleted value: [1, 2, 3, 4]\n",
    "\n",
    "d1['b'] = [1, 2, 3]\n",
    "d1['c'] = ('val1', 'val2')\n",
    "list(d1.keys())  # list of all keys\n",
    "list(d1.values()) # list of all values\n",
    "list(d1.items()) # list of tuples with pair key - value: [('a', 'some value'), ('b', [1, 2, 3]), ('c', ('val1', 'val2'))]\n",
    "d1.update({8: 'bingo!', 'd': 1000}) # union two dictionarys\n",
    "print(d1)\n",
    "\n",
    "# get dictionary from 2 - tuples\n",
    "mapping = {}\n",
    "for key, value in zip([1, 2, 3], ['val1', 'val2', 'val3', 'val4']): #zip invoke circle by params and return tuples, which we unpuck in variables\n",
    "    mapping[key] = value\n",
    "mapping # {1: 'val1', 2: 'val2', 3: 'val3'}\n",
    "\n",
    "# get dictionary by dict() from 2 -tuples\n",
    "tuples = zip(range(5), reversed(range(5)))\n",
    "mapping = dict(tuples) # {0: 4, 1: 3, 2: 2, 3: 1, 4: 0}\n",
    "\n",
    "# get dictionary from unsorted words list by first character of words\n",
    "words = ['apple', 'bat', 'bar', 'atom', 'book']\n",
    "by_letter = {}\n",
    "for word in words:\n",
    "    letter = word[0]\n",
    "    if letter not in by_letter:\n",
    "        by_letter[letter] = [word] # attension on []\n",
    "    else:\n",
    "        by_letter[letter].append(word)\n",
    "      \n",
    "by_letter # {'a': ['apple', 'atom'], 'b': ['bat', 'bar', 'book']}\n",
    "\n",
    "# same way, but more elegant\n",
    "by_letter.clear()\n",
    "for word in words:\n",
    "    let = word[0]\n",
    "    by_letter.setdefault(let, []).append(word)\n",
    "by_letter # {'a': ['apple', 'atom'], 'b': ['bat', 'bar', 'book']}\n",
    "\n",
    "# same way, but using module\n",
    "from collections import defaultdict\n",
    "by_letter = defaultdict(list)\n",
    "for word in words:\n",
    "    by_letter[word[0]].append(word)\n",
    "dict(by_letter)\n"
   ]
  },
  {
   "cell_type": "code",
   "execution_count": 8,
   "id": "a121ffb3-51b6-4487-a3d9-1852c133a84c",
   "metadata": {},
   "outputs": [
    {
     "name": "stdout",
     "output_type": "stream",
     "text": [
      "0 1\n",
      "1 2\n",
      "2 3\n",
      "3 4\n",
      "4 5\n",
      "0: 1, val1\n",
      "1: 2, val2\n",
      "2: 3, val3\n",
      "3: 4, val4\n"
     ]
    },
    {
     "data": {
      "text/plain": [
       "{0: 'a', 1: 'as', 2: 'bat', 3: 'car', 4: 'dove', 5: 'dove', 6: 'python'}"
      ]
     },
     "execution_count": 8,
     "metadata": {},
     "output_type": "execute_result"
    }
   ],
   "source": [
    "#############################  SETS ##################################\n",
    "\n",
    "# support relational algebra, not sorted, unique elements\n",
    "a = {1, 2, 3, 4, 5}\n",
    "b = {3, 4, 5, 6, 7, 8}\n",
    "\n",
    "# union\n",
    "a.union(b)  # {1, 2, 3, 4, 5, 6, 7, 8}\n",
    "a | b # also union\n",
    "a.union([10]) # {1, 2, 3, 4, 5, 10}\n",
    "\n",
    "# intersection\n",
    "a.intersection(b)\n",
    "a & b  # {3, 4, 5}\n",
    "\n",
    "c = a.copy() # {1, 2, 3, 4, 5}\n",
    "c |= b       # {1, 2, 3, 4, 5, 6, 7, 8}\n",
    "d = a.copy()\n",
    "\n",
    "# row in set\n",
    "my_data = [1, 2, 4, 3, 2] # list here\n",
    "my_set = {tuple(my_data)} # row in set: {(1, 2, 4, 3, 2)}\n",
    "\n",
    "# subset, superset\n",
    "a_set = {1, 2, 3, 4, 5}\n",
    "{2, 4}.issubset(a_set) # True\n",
    "a_set.issuperset({1, 2, 5}) # True\n",
    "\n",
    "{1, 2, 3} == {1, 2, 3} # True\n",
    "\n",
    "# enumerate\n",
    "ls = [1, 2, 3, 4, 5]\n",
    "for index, value in enumerate(ls):\n",
    "    print(index, value)\n",
    "\"\"\"\n",
    "0 1\n",
    "1 2\n",
    "2 3\n",
    "3 4\n",
    "4 5\"\"\"\n",
    "\n",
    "# sorted\n",
    "sorted('vadim ilray') # [' ', 'a', 'a', 'd', 'i', 'i', 'l', 'm', 'r', 'v', 'y']\n",
    "\n",
    "# zip\n",
    "seq1 = [1, 2, 3, 4, 5]\n",
    "seq2 = ['val1', 'val2', 'val3', 'val4']\n",
    "zipped = zip(seq1, seq2)\n",
    "list(zipped)  # [(1, 'val1'), (2, 'val2'), (3, 'val3'), (4, 'val4')]\n",
    "seq3 = (False, True, None)\n",
    "list(zip(seq1, seq2, seq3)) # [(1, 'val1', False), (2, 'val2', True), (3, 'val3', None)]\n",
    "\n",
    "for index, (a, b) in enumerate(zip(seq1, seq2)):\n",
    "    print(f'{index}: {a}, {b}')\n",
    "\"\"\"\n",
    "0: 1, val1\n",
    "1: 2, val2\n",
    "2: 3, val3\n",
    "3: 4, val4\n",
    "\"\"\"\n",
    "\n",
    "# revers - it's generator\n",
    "list(reversed(range(10))) # [9, 8, 7, 6, 5, 4, 3, 2, 1, 0]\n"
   ]
  },
  {
   "cell_type": "code",
   "execution_count": 34,
   "id": "d548d6cc-922e-464f-ab92-3c4450f77d25",
   "metadata": {},
   "outputs": [
    {
     "data": {
      "text/plain": [
       "[[1, 2, 3], [4, 5, 6], [7, 8, 9]]"
      ]
     },
     "execution_count": 34,
     "metadata": {},
     "output_type": "execute_result"
    }
   ],
   "source": [
    "#######################  LIST COMPREHENSION (INCLUSION) #######################\n",
    "\n",
    "strings = ['a', 'as', 'bat', 'car', 'dove', 'dove', 'python']\n",
    "[x.upper() for x in strings if len(x) > 2] # ['BAT', 'CAR', 'DOVE', 'DOVE', 'PYTHON']\n",
    "unique_lengths = {len(word) for word in strings } # {1, 2, 3, 4, 6}\n",
    "set(map(len, strings)) # {1, 2, 3, 4, 6}\n",
    "\n",
    "{index:value for index, value in enumerate(strings)} # dictionary\n",
    "\n",
    "# nested list inclusion\n",
    "# find names with two 'a'\n",
    "all_data = [['John', 'Emily', 'Michael', 'Mary', 'Steven'],\n",
    "            ['Maria', 'Juan', 'Javier', 'Natalie', 'Pilar']]\n",
    "two_a = []\n",
    "for names in all_data:  # cirle by nested lists\n",
    "    ls = [name for name in names if name.count('a') >= 2] # cirle inside nested list\n",
    "    two_a.extend(ls)\n",
    "two_a # ['Maria', 'Natalie']\n",
    "# or\n",
    "two_a = [name for names in all_data for name in names if name.count('a') >= 2]\n",
    "two_a # ['Maria', 'Natalie']\n",
    "\n",
    "# get flat list\n",
    "some_tuples = [(1, 2, 3), (4, 5, 6), (7, 8, 9)]\n",
    "flattened = [elem for tuples in some_tuples for elem in tuples]\n",
    "flattened # [1, 2, 3, 4, 5, 6, 7, 8, 9]\n",
    "\n",
    "# tuples in lists\n",
    "[[x for x in tuple] for tuple in some_tuples] # [1, 2, 3, 4, 5, 6, 7, 8, 9]"
   ]
  },
  {
   "cell_type": "code",
   "execution_count": 66,
   "id": "f5fc68d3-257e-4ed0-9c70-a4638223865e",
   "metadata": {},
   "outputs": [
    {
     "name": "stdout",
     "output_type": "stream",
     "text": [
      "3\n",
      "5\n",
      "5\n"
     ]
    }
   ],
   "source": [
    "############################# FUNCTIONS ################################################\n",
    "\n",
    "# 1\n",
    "a = 3 # global variable\n",
    "\n",
    "def func():\n",
    "    print(a) # i see 'a' here\n",
    "    # a = 5 # ERROR! i can't change reference on object, i can only change the object 'a' itself\n",
    "func() # 3\n",
    "\n",
    "# 2\n",
    "def func_gl():\n",
    "    global a\n",
    "    a = 5\n",
    "    print(a)\n",
    "func_gl() # 5\n",
    "\n",
    "print(a) # 5"
   ]
  },
  {
   "cell_type": "code",
   "execution_count": 56,
   "id": "86597ecd-cef5-428e-a3d4-d5e3d86ec0cd",
   "metadata": {},
   "outputs": [
    {
     "name": "stdout",
     "output_type": "stream",
     "text": [
      "[]\n",
      "[0, 1, 2, 3, 4]\n",
      "[0, 1, 2, 3, 4, 0, 1, 2, 3, 4]\n",
      "[0, 1, 2, 3, 4, 0, 1, 2, 3, 4, 0, 1, 2, 3, 4]\n"
     ]
    }
   ],
   "source": [
    "# 2 change object by reference\n",
    "b = []\n",
    "\n",
    "def func1():\n",
    "    print(b)\n",
    "    for i in range(5):\n",
    "        b.append(i)\n",
    "\n",
    "func1()\n",
    "func1()\n",
    "func1()\n",
    "\n",
    "print(b)"
   ]
  },
  {
   "cell_type": "code",
   "execution_count": 19,
   "id": "f4953ed7-8f18-47d8-9c0a-92fd02e2760e",
   "metadata": {},
   "outputs": [
    {
     "name": "stdout",
     "output_type": "stream",
     "text": [
      "  Alabama \n",
      "Georgia\n",
      "Georgia\n",
      "georgia\n",
      "FlOrIda\n",
      "south     carolina\n",
      "West virginia\n"
     ]
    }
   ],
   "source": [
    "# function as object\n",
    "states = ['  Alabama ', 'Georgia!', 'Georgia', 'georgia', 'FlOrIda', 'south     carolina##', 'West virginia?']\n",
    "\n",
    "import re\n",
    "\n",
    "def clean_strings(strings):\n",
    "    result = []\n",
    "    for value in strings:\n",
    "        value = value.strip() # delete space from left and right\n",
    "        value = re.sub('[!#?]', '', value) # here 're' class\n",
    "        value = value.title()\n",
    "        result.append(value)\n",
    "    return result\n",
    "\n",
    "clean_strings(states)\n",
    "\n",
    "# ver.2 functional approach\n",
    "def remove_punctuation(value): # using this named function as argument\n",
    "    return re.sub('[!#?]', '', value)\n",
    "\n",
    "clean_oper_types = [str.strip, remove_punctuation, str.title] # list with operation types !!!\n",
    "\n",
    "def clean_strings(strings, clean_opt):\n",
    "    result = []\n",
    "    for value in strings:\n",
    "        for func in clean_opt:\n",
    "            value = func(value)\n",
    "        result.append(value)\n",
    "    return result\n",
    "\n",
    "clean_strings2(states, clean_oper_types)\n",
    "\n",
    "# ver.3\n",
    "for x in map(remove_punctuation, states): # execute function in parameter\n",
    "    print(x)"
   ]
  },
  {
   "cell_type": "code",
   "execution_count": 25,
   "id": "417e6d0f-8b7f-46eb-8380-2d9e84910a4a",
   "metadata": {},
   "outputs": [
    {
     "data": {
      "text/plain": [
       "['aaa', 'foo', 'abab', 'bar', 'card']"
      ]
     },
     "execution_count": 25,
     "metadata": {},
     "output_type": "execute_result"
    }
   ],
   "source": [
    "###############  Lambda (anonymus) functions ##########################\n",
    "\n",
    "# named function\n",
    "def short_func(x):\n",
    "    return x * 2\n",
    "\n",
    "# anonymus function\n",
    "equiv_anon = lambda y: y * 2\n",
    "equiv_anon(2) # 4\n",
    "\n",
    "# lambda function as param\n",
    "def apply_to_list(some_list, f):\n",
    "    return [f(x) for x in some_list]\n",
    "\n",
    "ls = [4, 0, 1, 5, 7]\n",
    "apply_to_list(ls, lambda z: z * 2) # [8, 0, 2, 10, 14]\n",
    "\n",
    "# sort by different char in words\n",
    "set('aaafc') # {'a', 'c', 'f'}\n",
    "strings = ['aaa', 'foo', 'abab', 'bar', 'card']\n",
    "strings.sort(key = lambda x: len(set(x)))\n",
    "strings"
   ]
  },
  {
   "cell_type": "code",
   "execution_count": 7,
   "id": "d4d0049a-615a-4241-a6a2-35b9e73575d2",
   "metadata": {},
   "outputs": [
    {
     "name": "stdout",
     "output_type": "stream",
     "text": [
      "a\n",
      "b\n",
      "c\n",
      "Squares of numbers are generated from 1 to 100\n",
      "1 4 9 16 25 36 49 64 81 100 \n",
      "\n",
      "1 4 9 16 25 36 49 64 81 100 \n",
      "\n",
      "Y ['Yaroslav']\n",
      "V ['Vladimir']\n",
      "Y ['Yurij']\n",
      "A ['Aleksandr']\n",
      "I ['Ivan']\n"
     ]
    }
   ],
   "source": [
    "######################## GENERATOR ##################################\n",
    "\n",
    "# more efficient by perfomance compare with list inclusion!\n",
    "\n",
    "some_dict = {'a': 1, 'b': 2, 'c': 3}\n",
    "for key in some_dict:\n",
    "    print(key) # a, b, c\n",
    "\n",
    "# iterator return ALL values immediately\n",
    "dict_iterator = iter(some_dict) # create iterator\n",
    "list(dict_iterator) # a, b, c\n",
    "\n",
    "# generator - designer of iterative OBJECT, similar to function\n",
    "# instead of 'return' using keyword 'yield'\n",
    "# return values one by one (good perfomance)\n",
    "def squares(n = 10):\n",
    "    print(f'Squares of numbers are generated from 1 to {n ** 2}')\n",
    "    for i in range(1, n + 1):\n",
    "        yield i ** 2\n",
    "\n",
    "gen = squares() # not invoke here. It's iterative object like list, tuple and etc.\n",
    "for x in gen:\n",
    "    print(x, end= ' ') # space between values 1 4 9 16 25 36 49 64 81 100 \n",
    "\n",
    "\n",
    "# 2 variant create generator\n",
    "gen = (x ** 2 for x in range(1, 11)) # () here instead [] for list inclusive\n",
    "print('\\n')\n",
    "for x in gen:\n",
    "    print(x, end = ' ') # also 1 4 9 16 25 36 49 64 81 100 \n",
    "\n",
    "# generator as function argument\n",
    "sum(x ** 2 for x in range(5)) # 30\n",
    "dict([i, i ** 2] for i in range(5)) # {0: 0, 1: 1, 2: 4, 3: 9, 4: 16}\n",
    "\n",
    "# itertool module\n",
    "import itertools\n",
    "\n",
    "def first_letter(x):\n",
    "    return x[0] # return first letter of the name\n",
    "\n",
    "names = ['Yaroslav', 'Vladimir', 'Yurij', 'Aleksandr', 'Ivan']\n",
    "\n",
    "print('\\n')\n",
    "\n",
    "for letter, name_gen in itertools.groupby(names, first_letter):\n",
    "    print(letter, list(name_gen)) # name_gen - generator\n"
   ]
  },
  {
   "cell_type": "code",
   "execution_count": 5,
   "id": "65cdcd1c-ddc5-4a10-b2e6-081bbd33b1c4",
   "metadata": {},
   "outputs": [
    {
     "name": "stdout",
     "output_type": "stream",
     "text": [
      "All good! Text: Sueña el r, position: 11\n"
     ]
    }
   ],
   "source": [
    "##################################### EXCEPTION ##################################\n",
    "\n",
    "def attempt_float(x):\n",
    "    try:\n",
    "        return float(x)\n",
    "    except ValueError: # what i want to except\n",
    "        return x\n",
    "\n",
    "attempt_float('string') # 'string'\n",
    "#attempt_float([1, 3]) # TypeError: float() argument must be a string or a real number, not 'list'\n",
    "\n",
    "def attempt_float_all_exept(x):\n",
    "    try:\n",
    "        return float(x)\n",
    "    except (ValueError, TypeError):\n",
    "        return x\n",
    "\n",
    "attempt_float_all_exept([1, 3]) # [1, 3]\n",
    "\n",
    "# obligatory code.\n",
    "path = '/home/horizont/Python/pydata-book-3rd-edition/examples/segismundo.txt'\n",
    "f = open(path)\n",
    "\n",
    "try:\n",
    "    str = f.read(10) # read 10 char\n",
    "    pos = f.tell()   # current position\n",
    "except:\n",
    "    print('Error')\n",
    "else:\n",
    "    print(f'All good! Text: {str}, position: {pos}')\n",
    "finally:\n",
    "    f.close()"
   ]
  },
  {
   "cell_type": "code",
   "execution_count": 45,
   "id": "e66e547d-b9e4-4e38-9cd4-fc8260c095b3",
   "metadata": {},
   "outputs": [
    {
     "name": "stdout",
     "output_type": "stream",
     "text": [
      "Sueña el r\n"
     ]
    }
   ],
   "source": [
    "#################################### FILES #################################\n",
    "\n",
    "path = '/home/horizont/Python/pydata-book-3rd-edition/examples/segismundo.txt'\n",
    "\n",
    "f1 = open(path, encoding= 'utf-8') # recommended to point encoding explicitly \n",
    "f1.read(10) # 'Sueña el r'\n",
    "f1.tell() # 11 - current position after read\n",
    "\n",
    "f2 = open(path, mode = 'rb') # reading in binary mode\n",
    "f2.read(10)\n",
    "\n",
    "# see current encoding\n",
    "import sys\n",
    "sys.getdefaultencoding() # 'utf-8'\n",
    "\n",
    "f1.seek(3) # 3\n",
    "f1.read(1) # 'ñ' - so it 4 char\n",
    "f1.tell() # 5\n",
    "\n",
    "# mandatory action !\n",
    "f1.close()\n",
    "f2.close()\n",
    "\n",
    "# construction as in c# for releasing object\n",
    "with open('/home/horizont/Python/pydata-book-3rd-edition/examples/tmp.txt', mode = 'w') as hand_made:\n",
    "    hand_made.writelines([x for x in open(path, encoding = 'utf-8') if len(x) > 1])\n",
    "\n",
    "with open('/home/horizont/Python/pydata-book-3rd-edition/examples/tmp.txt') as f:\n",
    "    lines = f.readlines()\n",
    "lines\n",
    "\n",
    "# working with bytes\n",
    "with open(path) as f:\n",
    "    chars = f.read(10) # hear decoding as much as bytes for return 10 char (in 'utf-8' for example)\n",
    "chars # 'Sueña el r'\n",
    "len(chars) # 10\n",
    "\n",
    "with open(path, mode = 'rb') as f:\n",
    "    data = f.read(10)\n",
    "data # 'Sue\\xc3\\xb1a el '\n",
    "len(data) # 10\n",
    "data.decode('utf-8') # 'Sueña el '\n",
    "data[0] # 177 code of char 'u' \n",
    "data[:3] # 'Sue'\n",
    "# data[:4].decode('utf-8') # ERROR! 'utf-8' codec can't decode byte 0xc3 in position 3: unexpected end of data\n",
    "data[:5] # 'Sue\\xc3'\n",
    "\n",
    "# change coding\n",
    "sink_path = '/home/horizont/Python/pydata-book-3rd-edition/examples/sink.txt'\n",
    "\"\"\"\n",
    "with open(path) as source:\n",
    "    with open(sink_path, 'x', encoding='iso-8859-1') as sink:\n",
    "        sink.write(source.read())\n",
    "\"\"\"\n",
    "with open(sink_path, encoding='iso-8859-1') as f: #if don't poin coding, error: 'utf-8' codec can't decode byte 0xf1 in position 3: invalid continuation byte\n",
    "    print(f.read(10))\n",
    "\n",
    "# break char and error\n",
    "f = open(path, encoding='utf-8')\n",
    "f.read(5) # 'Sueña'\n",
    "f.seek(4) # point on middle of char ñ\n",
    "# f.read(1) # 'utf-8' codec can't decode byte 0xb1 in position 0: invalid start byte\n",
    "f.close()"
   ]
  },
  {
   "cell_type": "code",
   "execution_count": null,
   "id": "72ecf359-ac34-4cac-b9ee-2e337d6cf6f9",
   "metadata": {},
   "outputs": [],
   "source": []
  },
  {
   "cell_type": "code",
   "execution_count": null,
   "id": "77d57d17-8796-4487-9bab-7252337b2954",
   "metadata": {},
   "outputs": [],
   "source": []
  }
 ],
 "metadata": {
  "kernelspec": {
   "display_name": "Python 3 (ipykernel)",
   "language": "python",
   "name": "python3"
  },
  "language_info": {
   "codemirror_mode": {
    "name": "ipython",
    "version": 3
   },
   "file_extension": ".py",
   "mimetype": "text/x-python",
   "name": "python",
   "nbconvert_exporter": "python",
   "pygments_lexer": "ipython3",
   "version": "3.12.7"
  }
 },
 "nbformat": 4,
 "nbformat_minor": 5
}
