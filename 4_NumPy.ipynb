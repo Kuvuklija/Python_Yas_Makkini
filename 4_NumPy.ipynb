{
 "cells": [
  {
   "cell_type": "code",
   "execution_count": 15,
   "id": "5bd73cef-10e4-4b08-9b0a-c7b1f52c43d4",
   "metadata": {},
   "outputs": [
    {
     "name": "stdout",
     "output_type": "stream",
     "text": [
      "CPU times: user 1.32 ms, sys: 0 ns, total: 1.32 ms\n",
      "Wall time: 2.13 ms\n",
      "CPU times: user 12.1 ms, sys: 14.8 ms, total: 26.9 ms\n",
      "Wall time: 36.4 ms\n"
     ]
    }
   ],
   "source": [
    "################################### NumPy #######################################\n",
    "\n",
    "import numpy as np # written on C\n",
    "\n",
    "# multiplication sequence by 2 to work faster in NumPy compared with Python\n",
    "my_arr = np.arange(1_000_000)\n",
    "\n",
    "my_list = list(range(1_000_000))\n",
    "\n",
    "%time my_arr = my_arr * 2\n",
    "\"\"\"CPU times: user 938 μs, sys: 149 μs, total: 1.09 ms\n",
    "Wall time: 1.1 ms\"\"\"\n",
    "\n",
    "%time my_list = [x * 2 for x in my_list]\n",
    "\"\"\"CPU times: user 12.1 ms, sys: 14.8 ms, total: 26.9 ms\n",
    "Wall time: 36.4 ms\"\"\"\n"
   ]
  },
  {
   "cell_type": "code",
   "execution_count": 26,
   "id": "90eaeba0-f069-473b-81a6-f71bef389455",
   "metadata": {},
   "outputs": [
    {
     "data": {
      "text/plain": [
       "array([0, 1, 2, 3, 4, 5, 6, 7, 8, 9])"
      ]
     },
     "execution_count": 26,
     "metadata": {},
     "output_type": "execute_result"
    }
   ],
   "source": [
    "######################################## 4.1 NDARRAY ############################\n",
    "\n",
    "import numpy as np\n",
    "\n",
    "data = np.array([[1.5, -0.1, 3], [0, -3, 6.5]])\n",
    "data\n",
    "\"\"\"array([[ 1.5, -0.1,  3. ],\n",
    "       [ 0. , -3. ,  6.5]])\"\"\"\n",
    "data * 10 \n",
    "\"\"\"array([[ 15.,  -1.,  30.],\n",
    "       [  0., -30.,  65.]])\"\"\"\n",
    "data + data\n",
    "\"\"\"array([[ 3. , -0.2,  6. ],\n",
    "       [ 0. , -6. , 13. ]])\"\"\"\n",
    "\n",
    "# attributes of ndarray\n",
    "data.shape # size array by axes YX:  (2, 3)\n",
    "data.dtype # similar types in array\n",
    "data.ndim # count of dimension\n",
    "\n",
    "# create ndarray object from any sequence\n",
    "data1 = [6, 7.5, 8, 0, 1]\n",
    "arr1 = np.array(data1)\n",
    "arr1 # array([6. , 7.5, 8. , 0. , 1. ]), type of elements: float64\n",
    "data2 = [[1, 2, 3, 4], [5, 6, 7, 8]]\n",
    "arr2 = np.array(data2)\n",
    "\"\"\"array([[1, 2, 3, 4],\n",
    "       [5, 6, 7, 8]])\"\"\"\n",
    "arr2.ndim # 2 dimension\n",
    "\n",
    "np.zeros(10) # array([0., 0., 0., 0., 0., 0., 0., 0., 0., 0.])\n",
    "np.empty((2, 3, 2)) # many garbage here\n",
    "\"\"\"\n",
    "array([[[2.877995e-316, 0.000000e+000],\n",
    "        [0.000000e+000, 0.000000e+000],\n",
    "        [0.000000e+000, 0.000000e+000]],\n",
    "\n",
    "       [[0.000000e+000, 0.000000e+000],\n",
    "        [0.000000e+000, 0.000000e+000],\n",
    "        [0.000000e+000, 0.000000e+000]]])\n",
    "\"\"\"\n",
    "np.arange(10) # array([0, 1, 2, 3, 4, 5, 6, 7, 8, 9])"
   ]
  },
  {
   "cell_type": "code",
   "execution_count": 25,
   "id": "57c1b9b5-87f7-4d34-8024-ba4fe82bb2ad",
   "metadata": {},
   "outputs": [
    {
     "data": {
      "text/plain": [
       "(0, 1, 2, 3, 4, 5, 6, 7, 8, 9)"
      ]
     },
     "execution_count": 25,
     "metadata": {},
     "output_type": "execute_result"
    }
   ],
   "source": [
    "tuple(range(10))"
   ]
  },
  {
   "cell_type": "code",
   "execution_count": null,
   "id": "e8c9edd7-73a2-41b1-9fef-4b756cf6e608",
   "metadata": {},
   "outputs": [],
   "source": []
  }
 ],
 "metadata": {
  "kernelspec": {
   "display_name": "Python 3 (ipykernel)",
   "language": "python",
   "name": "python3"
  },
  "language_info": {
   "codemirror_mode": {
    "name": "ipython",
    "version": 3
   },
   "file_extension": ".py",
   "mimetype": "text/x-python",
   "name": "python",
   "nbconvert_exporter": "python",
   "pygments_lexer": "ipython3",
   "version": "3.12.7"
  }
 },
 "nbformat": 4,
 "nbformat_minor": 5
}
