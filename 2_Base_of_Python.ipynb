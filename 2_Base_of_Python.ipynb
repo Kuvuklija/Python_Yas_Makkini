{
 "cells": [
  {
   "cell_type": "code",
   "execution_count": 1,
   "id": "32201265-859d-4524-8d51-fb9ff237ed2b",
   "metadata": {},
   "outputs": [
    {
     "data": {
      "text/plain": [
       "5"
      ]
     },
     "execution_count": 1,
     "metadata": {},
     "output_type": "execute_result"
    }
   ],
   "source": [
    "a = 5\n",
    "a"
   ]
  },
  {
   "cell_type": "code",
   "execution_count": 10,
   "id": "462596a4-fac0-4d55-b0de-aea15733535b",
   "metadata": {},
   "outputs": [
    {
     "data": {
      "text/plain": [
       "3"
      ]
     },
     "execution_count": 10,
     "metadata": {},
     "output_type": "execute_result"
    }
   ],
   "source": [
    "b = [1, 2, 3]\n",
    "b.sort()\n",
    "b[2]"
   ]
  },
  {
   "cell_type": "code",
   "execution_count": 12,
   "id": "b1faac6a-0c3d-43ac-af5d-3afc4756e2b7",
   "metadata": {},
   "outputs": [],
   "source": [
    "def add_numbers(a, b):\n",
    "    \"\"\"\n",
    "Add two numbers\n",
    "Return\n",
    "--------\n",
    "the_sum of arguments\n",
    "\"\"\"\n",
    "    return a + b\n",
    "\n"
   ]
  },
  {
   "cell_type": "code",
   "execution_count": 13,
   "id": "eef634f6-b8de-4796-986e-673689956322",
   "metadata": {},
   "outputs": [
    {
     "data": {
      "text/plain": [
       "4"
      ]
     },
     "execution_count": 13,
     "metadata": {},
     "output_type": "execute_result"
    }
   ],
   "source": [
    "add_numbers(1,3)"
   ]
  },
  {
   "cell_type": "code",
   "execution_count": 14,
   "id": "4ff62dec-7f05-4dc5-816b-39d53fe0daae",
   "metadata": {},
   "outputs": [
    {
     "data": {
      "text/plain": [
       "\u001b[0;31mSignature:\u001b[0m \u001b[0madd_numbers\u001b[0m\u001b[0;34m(\u001b[0m\u001b[0ma\u001b[0m\u001b[0;34m,\u001b[0m \u001b[0mb\u001b[0m\u001b[0;34m)\u001b[0m\u001b[0;34m\u001b[0m\u001b[0;34m\u001b[0m\u001b[0m\n",
       "\u001b[0;31mDocstring:\u001b[0m\n",
       "Add two numbers\n",
       "Return\n",
       "--------\n",
       "the_sum of arguments\n",
       "\u001b[0;31mFile:\u001b[0m      /tmp/ipykernel_3397/3379225134.py\n",
       "\u001b[0;31mType:\u001b[0m      function"
      ]
     },
     "metadata": {},
     "output_type": "display_data"
    }
   ],
   "source": [
    "add_numbers?"
   ]
  },
  {
   "cell_type": "code",
   "execution_count": 1,
   "id": "fb9a2275-74e7-4da1-90f1-734b988feadc",
   "metadata": {},
   "outputs": [
    {
     "data": {
      "text/plain": [
       "[1, 2, 3]"
      ]
     },
     "execution_count": 1,
     "metadata": {},
     "output_type": "execute_result"
    }
   ],
   "source": [
    "a = [1, 2, 3]\n",
    "b = a  # b - linked variable\n",
    "b"
   ]
  },
  {
   "cell_type": "code",
   "execution_count": 3,
   "id": "024f25fe-d87d-4cf3-b9bf-0615364963d4",
   "metadata": {},
   "outputs": [],
   "source": [
    "a.append(4);"
   ]
  },
  {
   "cell_type": "code",
   "execution_count": 5,
   "id": "44f44d15-c9fe-4476-bb25-7b6390338b0a",
   "metadata": {},
   "outputs": [
    {
     "data": {
      "text/plain": [
       "[1, 2, 3, 4]"
      ]
     },
     "execution_count": 5,
     "metadata": {},
     "output_type": "execute_result"
    }
   ],
   "source": [
    "b"
   ]
  },
  {
   "cell_type": "code",
   "execution_count": 5,
   "id": "7a0ecf0b-1e6b-4cc8-a6a0-f24271fe0e1f",
   "metadata": {},
   "outputs": [
    {
     "data": {
      "text/plain": [
       "[1, 2, 3, 4, 101]"
      ]
     },
     "execution_count": 5,
     "metadata": {},
     "output_type": "execute_result"
    }
   ],
   "source": [
    "def append_element(some_list, element):\n",
    "    some_list.append(element)\n",
    "    dat = some_list\n",
    "    dat.append(101)\n",
    "\n",
    "data = [1, 2, 3]\n",
    "append_element(data, 4)\n",
    "data"
   ]
  },
  {
   "cell_type": "code",
   "execution_count": 8,
   "id": "bb068357-9020-42a3-9ed4-8704f2995e8a",
   "metadata": {},
   "outputs": [
    {
     "data": {
      "text/plain": [
       "str"
      ]
     },
     "execution_count": 8,
     "metadata": {},
     "output_type": "execute_result"
    }
   ],
   "source": [
    "a = 5\n",
    "type(a)\n",
    "a = \"Yooooo\"\n",
    "type(a)"
   ]
  },
  {
   "cell_type": "code",
   "execution_count": 25,
   "id": "8bd8d7ac-3c97-4e70-8f7a-ebcbe60f8f3f",
   "metadata": {},
   "outputs": [],
   "source": [
    "# \"5\" + 5 # ERROR! can only concatenate str (not \"int\") to str"
   ]
  },
  {
   "cell_type": "code",
   "execution_count": 10,
   "id": "4add7655-aaf5-48e4-909f-e36bf053e322",
   "metadata": {},
   "outputs": [
    {
     "name": "stdout",
     "output_type": "stream",
     "text": [
      "a is <class 'float'>, b is <class 'int'>\n"
     ]
    }
   ],
   "source": [
    "# implicit typing \n",
    "a = 4.5  # float\n",
    "b = 2    # int\n",
    "print(f\"a is {type(a)}, b is {type(b)}\")"
   ]
  },
  {
   "cell_type": "code",
   "execution_count": 11,
   "id": "ed0bd3d4-591d-4c4e-b44d-e8d576fee675",
   "metadata": {},
   "outputs": [
    {
     "data": {
      "text/plain": [
       "2.25"
      ]
     },
     "execution_count": 11,
     "metadata": {},
     "output_type": "execute_result"
    }
   ],
   "source": [
    "a / b"
   ]
  },
  {
   "cell_type": "code",
   "execution_count": 16,
   "id": "981b9768-a6b4-4d70-9cac-413725a66ba1",
   "metadata": {},
   "outputs": [
    {
     "data": {
      "text/plain": [
       "True"
      ]
     },
     "execution_count": 16,
     "metadata": {},
     "output_type": "execute_result"
    }
   ],
   "source": [
    "a = 5.0\n",
    "isinstance(a, (str, int, float))"
   ]
  },
  {
   "cell_type": "code",
   "execution_count": 19,
   "id": "c8f4bf52-6793-4536-8376-90a7d0f9aa8c",
   "metadata": {},
   "outputs": [
    {
     "data": {
      "text/plain": [
       "<function str.split(sep=None, maxsplit=-1)>"
      ]
     },
     "execution_count": 19,
     "metadata": {},
     "output_type": "execute_result"
    }
   ],
   "source": [
    "a = \"Yooooo-oooo\"\n",
    "getattr(a, \"split\")"
   ]
  },
  {
   "cell_type": "code",
   "execution_count": 33,
   "id": "d087a5a3-d90d-45b2-913d-6a4da1c45194",
   "metadata": {},
   "outputs": [
    {
     "data": {
      "text/plain": [
       "True"
      ]
     },
     "execution_count": 33,
     "metadata": {},
     "output_type": "execute_result"
    }
   ],
   "source": [
    "# duck typing\n",
    "def isiterable(obj):\n",
    "    try:\n",
    "        iter(obj)\n",
    "        return True\n",
    "    except TypeError:\n",
    "        return False\n",
    "\n",
    "isiterable(\"a string\")"
   ]
  },
  {
   "cell_type": "code",
   "execution_count": 39,
   "id": "0c3c5d58-6e96-4937-a18b-f0bca22badd5",
   "metadata": {},
   "outputs": [
    {
     "name": "stdout",
     "output_type": "stream",
     "text": [
      "pi = 3.14159, result = 7\n"
     ]
    }
   ],
   "source": [
    "# using module method 1\n",
    "import first_module as tm\n",
    "pi = tm.PI\n",
    "result = tm.f(5)\n",
    "print(f\"pi = {pi}, result = {result}\")"
   ]
  },
  {
   "cell_type": "code",
   "execution_count": 43,
   "id": "3c9f382b-979f-49a0-ac75-288b2125d3d9",
   "metadata": {},
   "outputs": [
    {
     "data": {
      "text/plain": [
       "7"
      ]
     },
     "execution_count": 43,
     "metadata": {},
     "output_type": "execute_result"
    }
   ],
   "source": [
    "# using module method 2\n",
    "from first_module import PI, g\n",
    "result = g(3, 4)\n",
    "result"
   ]
  },
  {
   "cell_type": "code",
   "execution_count": 6,
   "id": "8b3c76fa-9405-43df-9222-4178e6e3950b",
   "metadata": {},
   "outputs": [
    {
     "data": {
      "text/plain": [
       "True"
      ]
     },
     "execution_count": 6,
     "metadata": {},
     "output_type": "execute_result"
    }
   ],
   "source": [
    "# \"is\" and \"is not\" statement - check the reference to the object\n",
    "a = [1, 2, 3]\n",
    "b = a\n",
    "c = list(a)  # copy a, not link\n",
    "b is a  # True\n",
    "c is a  # False\n",
    "c == a  # True\n"
   ]
  },
  {
   "cell_type": "code",
   "execution_count": 10,
   "id": "13b952bb-4462-419d-b319-0dac9cecde3e",
   "metadata": {},
   "outputs": [
    {
     "data": {
      "text/plain": [
       "True"
      ]
     },
     "execution_count": 10,
     "metadata": {},
     "output_type": "execute_result"
    }
   ],
   "source": [
    "# None (null)\n",
    "a\n",
    "type(a) # list ))))))))))))\n",
    "a = None\n",
    "type(a) # NoneType\n",
    "a is None"
   ]
  },
  {
   "cell_type": "code",
   "execution_count": 12,
   "id": "7d580ecf-eac5-4289-8124-0449e0bed8cb",
   "metadata": {},
   "outputs": [
    {
     "data": {
      "text/plain": [
       "['Yooo', 2, [6, 7]]"
      ]
     },
     "execution_count": 12,
     "metadata": {},
     "output_type": "execute_result"
    }
   ],
   "source": [
    "# changeable objects\n",
    "a_list = ['Yooo', 2, [4, 5]]\n",
    "a_list\n",
    "a_list[2] = [6, 7]  \n",
    "a_list"
   ]
  },
  {
   "cell_type": "code",
   "execution_count": 17,
   "id": "8d3d65c3-dbad-4b69-9e61-a6a249f8a4f3",
   "metadata": {},
   "outputs": [],
   "source": [
    "# immutable objects (strings, tuples)\n",
    "a_tuple = ('Yooo', 2, [2, 3])\n",
    "#a_tuple[2] = [4, 5] # ERROR !"
   ]
  },
  {
   "cell_type": "code",
   "execution_count": 20,
   "id": "14b7013b-1db4-49ca-a6dc-1ca5ace79352",
   "metadata": {},
   "outputs": [
    {
     "data": {
      "text/plain": [
       "'Yoo-oooooooo'"
      ]
     },
     "execution_count": 20,
     "metadata": {},
     "output_type": "execute_result"
    }
   ],
   "source": [
    "# immutable of string\n",
    "a = 'Yoooooooooo'\n",
    "# a[3] = '-'   # ERROR !\n",
    "b = a.replace('Yoo', 'Yoo-') # this is copy of a\n",
    "a # immutable\n",
    "b"
   ]
  },
  {
   "cell_type": "code",
   "execution_count": 24,
   "id": "2da13a02-12c2-4a0c-8f66-9e12b071b1e4",
   "metadata": {},
   "outputs": [
    {
     "name": "stdout",
     "output_type": "stream",
     "text": [
      "5.6\n"
     ]
    },
    {
     "data": {
      "text/plain": [
       "str"
      ]
     },
     "execution_count": 24,
     "metadata": {},
     "output_type": "execute_result"
    }
   ],
   "source": [
    "a = 5.6\n",
    "s = str(a) # copy of a\n",
    "s is a\n",
    "print(a) #float is possible in print()\n",
    "type(s)"
   ]
  },
  {
   "cell_type": "code",
   "execution_count": 34,
   "id": "d0b5e9b4-b674-456d-8d1b-04d4cdf25812",
   "metadata": {},
   "outputs": [
    {
     "name": "stdout",
     "output_type": "stream",
     "text": [
      "['p', 'y', 't', 'h', 'o', 'n']\n",
      "First 3 simbols: 'pyt', only third simbol: 'h'\n"
     ]
    }
   ],
   "source": [
    "# string like list/tuple\n",
    "s = \"python\"\n",
    "print(list(s))\n",
    "print(f\"First 3 simbols: '{s[:3]}', only fourth simbol: '{s[3]}'\")"
   ]
  },
  {
   "cell_type": "code",
   "execution_count": 35,
   "id": "1b123046-f4cd-47f2-baa1-b796efab7b4b",
   "metadata": {},
   "outputs": [
    {
     "data": {
      "text/plain": [
       "'this. has no\\\\ special\\\\characters.'"
      ]
     },
     "execution_count": 35,
     "metadata": {},
     "output_type": "execute_result"
    }
   ],
   "source": [
    "s = r'this. has no\\ special\\characters.'\n",
    "s"
   ]
  },
  {
   "cell_type": "code",
   "execution_count": 38,
   "id": "b2296d6b-da84-4409-9c07-0a4f22ced7b3",
   "metadata": {},
   "outputs": [
    {
     "data": {
      "text/plain": [
       "'My friend: 88.35 Argentine Pesos are worth US $21'"
      ]
     },
     "execution_count": 38,
     "metadata": {},
     "output_type": "execute_result"
    }
   ],
   "source": [
    "# format string\n",
    "template = 'My friend: {0:.2f} {1:s} are worth US ${2:d}'\n",
    "template.format(88.3451, 'Argentine Pesos', 21)"
   ]
  },
  {
   "cell_type": "code",
   "execution_count": 40,
   "id": "d4d44f9d-7a25-4b5a-a235-5cbab70eeff4",
   "metadata": {},
   "outputs": [
    {
     "data": {
      "text/plain": [
       "'10 Pesos is worth US $0.11'"
      ]
     },
     "execution_count": 40,
     "metadata": {},
     "output_type": "execute_result"
    }
   ],
   "source": [
    "# format string\n",
    "amount = 10; rate = 88.4783; currency = 'Pesos'\n",
    "result = f'{amount} {currency} is worth US ${amount / rate :.2f}'\n",
    "result"
   ]
  },
  {
   "cell_type": "code",
   "execution_count": 45,
   "id": "353bef2a-bab7-44a3-ae0a-227efe4d0c97",
   "metadata": {},
   "outputs": [
    {
     "data": {
      "text/plain": [
       "False"
      ]
     },
     "execution_count": 45,
     "metadata": {},
     "output_type": "execute_result"
    }
   ],
   "source": [
    "s = 3.14159\n",
    "type(s) #float\n",
    "int(s)  #3\n",
    "bool(3) #true\n",
    "bool(0) #false"
   ]
  },
  {
   "cell_type": "code",
   "execution_count": 47,
   "id": "f0991331-aacb-4a37-a783-f7ab520ab296",
   "metadata": {},
   "outputs": [
    {
     "data": {
      "text/plain": [
       "7"
      ]
     },
     "execution_count": 47,
     "metadata": {},
     "output_type": "execute_result"
    }
   ],
   "source": [
    "def add_and_maybe_multiply(a, b, c = None):\n",
    "    result = a + b\n",
    "    if c is not None:\n",
    "        result = result * c\n",
    "    return result\n",
    "\n",
    "add_and_maybe_multiply(3, 4)"
   ]
  },
  {
   "cell_type": "code",
   "execution_count": 50,
   "id": "68980c03-690c-4505-ab7c-8aeeb40bdd2c",
   "metadata": {},
   "outputs": [],
   "source": [
    "a = None; b = 3\n",
    "#c = a + b # ERROR!"
   ]
  },
  {
   "cell_type": "code",
   "execution_count": 80,
   "id": "241493f9-2875-4d37-815f-c48768193b1b",
   "metadata": {},
   "outputs": [
    {
     "data": {
      "text/plain": [
       "datetime.datetime(2024, 11, 16, 22, 12, 36)"
      ]
     },
     "execution_count": 80,
     "metadata": {},
     "output_type": "execute_result"
    }
   ],
   "source": [
    "from datetime import datetime, date, time\n",
    "dt = datetime(2024,11, 16, 22, 00, 15) #dt - my object with type 'datetime'\n",
    "dt.hour # 22\n",
    "tm = dt.time() #object with type 'time'\n",
    "tm.hour #22\n",
    "st = dt.strftime('%d.%m.%Y %H:%M') #'16.11.2024 22:00' # type 'datetime' to type 'string'\n",
    "dt_hour = dt.replace(minute=12, second=36) # new object\n",
    "dt_hour\n"
   ]
  },
  {
   "cell_type": "code",
   "execution_count": 76,
   "id": "029794f9-b467-40b1-9c30-30c91f923665",
   "metadata": {},
   "outputs": [
    {
     "data": {
      "text/plain": [
       "16"
      ]
     },
     "execution_count": 76,
     "metadata": {},
     "output_type": "execute_result"
    }
   ],
   "source": [
    "input_date = '20241116'\n",
    "dt = datetime.strptime(input_date, '%Y%m%d')  # convert 'string' to object 'datetime'\n",
    "dt.day # invoke properties of object 'datetime'"
   ]
  },
  {
   "cell_type": "code",
   "execution_count": 86,
   "id": "e19bbcf4-a753-41e4-8f97-dd54b6c83390",
   "metadata": {},
   "outputs": [
    {
     "data": {
      "text/plain": [
       "datetime.datetime(2024, 11, 16, 22, 0, 15)"
      ]
     },
     "execution_count": 86,
     "metadata": {},
     "output_type": "execute_result"
    }
   ],
   "source": [
    "from datetime import datetime, date, time\n",
    "dt1 = datetime(2024,11, 16, 22, 00, 15)\n",
    "dt2 = datetime(2024,11, 11, 15, 30, 14)\n",
    "delta = dt1 - dt2\n",
    "delta\n",
    "dt2 + delta"
   ]
  },
  {
   "cell_type": "code",
   "execution_count": 2,
   "id": "22265617-f844-497f-9b7a-925f4f324666",
   "metadata": {},
   "outputs": [
    {
     "data": {
      "text/plain": [
       "False"
      ]
     },
     "execution_count": 2,
     "metadata": {},
     "output_type": "execute_result"
    }
   ],
   "source": [
    "a = 3; b = 3; c = 3\n",
    "a == b != c"
   ]
  },
  {
   "cell_type": "code",
   "execution_count": 6,
   "id": "e376346e-adc4-4976-8adc-84fb30b08145",
   "metadata": {},
   "outputs": [
    {
     "data": {
      "text/plain": [
       "12"
      ]
     },
     "execution_count": 6,
     "metadata": {},
     "output_type": "execute_result"
    }
   ],
   "source": [
    "# circle\n",
    "sequence = [1, 2, None, 4, None, 5]\n",
    "total = 0\n",
    "for i in sequence:\n",
    "    if i is None:\n",
    "        continue\n",
    "    total += i\n",
    "\n",
    "total"
   ]
  },
  {
   "cell_type": "code",
   "execution_count": 17,
   "id": "46b7ca50-a441-41be-8bae-09fb3af70250",
   "metadata": {},
   "outputs": [
    {
     "name": "stdout",
     "output_type": "stream",
     "text": [
      "(0, 0)\n",
      "(1, 0)\n",
      "(1, 1)\n",
      "(2, 0)\n",
      "(2, 1)\n",
      "(2, 2)\n",
      "(3, 0)\n",
      "(3, 1)\n",
      "(3, 2)\n",
      "(3, 3)\n"
     ]
    }
   ],
   "source": [
    "# circle break\n",
    "for i in range(4):     #circle 1\n",
    "    for j in range(4): #circle 2\n",
    "        if j>i:\n",
    "            break      #break circle 2\n",
    "        print((i, j))  #level of circle 2"
   ]
  },
  {
   "cell_type": "code",
   "execution_count": 23,
   "id": "667935ab-25fc-4356-8c3a-bf658f223471",
   "metadata": {},
   "outputs": [
    {
     "name": "stdout",
     "output_type": "stream",
     "text": [
      " element 0: 3\n",
      " element 1: -1\n",
      " element 2: 8\n",
      " element 3: Yooo\n",
      " element 4: 3.27\n"
     ]
    }
   ],
   "source": [
    "# range() using as index of sequence\n",
    "seq = [3, -1, 8, 'Yooo', 3.27]\n",
    "for i in range(len(seq)):\n",
    "    print(f' element {i}: {seq[i]}')\n"
   ]
  },
  {
   "cell_type": "code",
   "execution_count": 2,
   "id": "f5a68277-4731-4028-a81a-ed91291b2547",
   "metadata": {},
   "outputs": [],
   "source": [
    "for i in range(100_000):\n",
    "   # print(i) # 0 - 99 999\n",
    "    break"
   ]
  },
  {
   "cell_type": "code",
   "execution_count": null,
   "id": "fe1e3567-a0c2-42a6-84a2-cce0523cbb0a",
   "metadata": {},
   "outputs": [],
   "source": []
  }
 ],
 "metadata": {
  "kernelspec": {
   "display_name": "Python 3 (ipykernel)",
   "language": "python",
   "name": "python3"
  },
  "language_info": {
   "codemirror_mode": {
    "name": "ipython",
    "version": 3
   },
   "file_extension": ".py",
   "mimetype": "text/x-python",
   "name": "python",
   "nbconvert_exporter": "python",
   "pygments_lexer": "ipython3",
   "version": "3.12.7"
  }
 },
 "nbformat": 4,
 "nbformat_minor": 5
}
